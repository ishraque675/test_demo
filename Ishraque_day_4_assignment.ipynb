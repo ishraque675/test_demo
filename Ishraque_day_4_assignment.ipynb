{
  "nbformat": 4,
  "nbformat_minor": 0,
  "metadata": {
    "colab": {
      "name": "Ishraque_day 4 assignment.ipynb",
      "provenance": [],
      "collapsed_sections": [],
      "authorship_tag": "ABX9TyPIoEyS37mOz5k4nkhQHiXj",
      "include_colab_link": true
    },
    "kernelspec": {
      "name": "python3",
      "display_name": "Python 3"
    }
  },
  "cells": [
    {
      "cell_type": "markdown",
      "metadata": {
        "id": "view-in-github",
        "colab_type": "text"
      },
      "source": [
        "<a href=\"https://colab.research.google.com/github/ishraque675/test_demo/blob/master/Ishraque_day_4_assignment.ipynb\" target=\"_parent\"><img src=\"https://colab.research.google.com/assets/colab-badge.svg\" alt=\"Open In Colab\"/></a>"
      ]
    },
    {
      "cell_type": "code",
      "metadata": {
        "id": "-xijeR5vSCwd",
        "colab_type": "code",
        "colab": {
          "base_uri": "https://localhost:8080/",
          "height": 34
        },
        "outputId": "11cae633-7aa5-4f9b-dd8a-db42542f634b"
      },
      "source": [
        "pip install numpy\n"
      ],
      "execution_count": null,
      "outputs": [
        {
          "output_type": "stream",
          "text": [
            "Requirement already satisfied: numpy in /usr/local/lib/python3.6/dist-packages (1.18.5)\n"
          ],
          "name": "stdout"
        }
      ]
    },
    {
      "cell_type": "code",
      "metadata": {
        "id": "sNGfpcQ5j31c",
        "colab_type": "code",
        "colab": {}
      },
      "source": [
        "#importing numpy\n",
        "\n",
        "import numpy as np\n",
        "#making list\n",
        "\n",
        "\n",
        "lst=[1,2,3,4,5]\n",
        "arr=np.array(lst)\n",
        "print(repr(arr))\n",
        "\n",
        "#making python matrix\n",
        "matrix3=[[1,2,3],[4,5,6],[7,8,9]]\n",
        "print(repr(np.array(matrix3)))\n",
        "\n",
        "\n",
        "\n"
      ],
      "execution_count": null,
      "outputs": []
    },
    {
      "cell_type": "code",
      "metadata": {
        "id": "_LauDZxT1LF2",
        "colab_type": "code",
        "colab": {}
      },
      "source": [
        "#using builtin function\n",
        "mat_arr=np.arange(1,18,2).reshape(3,3)\n",
        "\n",
        "print(repr(mat_arr))\n",
        "\n",
        "#random array\n",
        "arr=np.random.randn(3,3)\n",
        "print(arr)\n",
        "\n",
        "#2d array\n",
        "arr1=np.arange(1,6).reshape(5,1)\n",
        "print(repr(arr1))\n",
        "\n",
        "#shape\n",
        "print(arr1.shape)\n",
        "\n",
        "#accessing\n",
        "ar1=np.arange(10)\n",
        "print(ar1)\n",
        "print(ar1[2]) #3rd element\n",
        "print(ar1[3]) #4th element\n",
        "print(ar1[8]) #9th element\n",
        "print(ar1[0::2])\n",
        "\n",
        "\n"
      ],
      "execution_count": null,
      "outputs": []
    },
    {
      "cell_type": "code",
      "metadata": {
        "id": "w4qdCGgh9TVr",
        "colab_type": "code",
        "colab": {}
      },
      "source": [
        "#broadcasting\n",
        "ar2=np.arange(10)\n",
        "print(repr(ar2))\n",
        "ar2[-3:]=100\n",
        "print(repr(ar2))"
      ],
      "execution_count": null,
      "outputs": []
    },
    {
      "cell_type": "code",
      "metadata": {
        "id": "d3mfQt2f9y72",
        "colab_type": "code",
        "colab": {
          "base_uri": "https://localhost:8080/",
          "height": 151
        },
        "outputId": "f44154f2-f413-48ea-9b22-8c412bd2a2c9"
      },
      "source": [
        "#5X5 matrix\n",
        "ar3=np.arange(1,51,2).reshape(5,5)\n",
        "print(repr(ar3))\n",
        "\n",
        "print(ar3[1:4,1:4])"
      ],
      "execution_count": 75,
      "outputs": [
        {
          "output_type": "stream",
          "text": [
            "array([[ 1,  3,  5,  7,  9],\n",
            "       [11, 13, 15, 17, 19],\n",
            "       [21, 23, 25, 27, 29],\n",
            "       [31, 33, 35, 37, 39],\n",
            "       [41, 43, 45, 47, 49]])\n",
            "[[13 15 17]\n",
            " [23 25 27]\n",
            " [33 35 37]]\n"
          ],
          "name": "stdout"
        }
      ]
    }
  ]
}